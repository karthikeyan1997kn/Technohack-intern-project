{
 "cells": [
  {
   "cell_type": "code",
   "execution_count": 2,
   "id": "7eed029c-e1ed-4a53-8788-bf33f0bd5029",
   "metadata": {},
   "outputs": [],
   "source": [
    "import pandas as pd\n",
    "import numpy as np"
   ]
  },
  {
   "cell_type": "code",
   "execution_count": 3,
   "id": "d90f8bab-a609-488a-bc72-41a1de58e0eb",
   "metadata": {},
   "outputs": [],
   "source": [
    "# Load the dataset\n",
    "file_path = r\"C:\\Users\\KARTHIK\\Downloads\\Titanic DS.xlsx\"\n",
    "titanic_df = pd.read_excel(file_path)"
   ]
  },
  {
   "cell_type": "code",
   "execution_count": 4,
   "id": "77c091bc-b80e-4a3f-82f5-10ae549ff8e6",
   "metadata": {},
   "outputs": [],
   "source": [
    "# Display basic summary statistics using the describe method\n",
    "summary_stats = titanic_df.describe()"
   ]
  },
  {
   "cell_type": "code",
   "execution_count": 6,
   "id": "89d94a0f-0541-48f8-acdf-52986e3688c5",
   "metadata": {},
   "outputs": [],
   "source": [
    "# Convert relevant columns to numeric\n",
    "numeric_columns = titanic_df.select_dtypes(include=[np.number]).columns\n",
    "titanic_df[numeric_columns] = titanic_df[numeric_columns].apply(pd.to_numeric, errors='coerce')"
   ]
  },
  {
   "cell_type": "code",
   "execution_count": 9,
   "id": "087c4f74-fc03-4023-a5f7-0a10800c8058",
   "metadata": {},
   "outputs": [],
   "source": [
    "# Identify columns with mixed data types or non-numeric values\n",
    "non_numeric_columns = titanic_df.select_dtypes(exclude=[float, int]).columns"
   ]
  },
  {
   "cell_type": "code",
   "execution_count": 10,
   "id": "959e4625-2b39-4f88-ad6e-256fe0247c5a",
   "metadata": {},
   "outputs": [],
   "source": [
    "# Convert non-numeric columns to numeric, replacing non-numeric values with NaN\n",
    "titanic_df[non_numeric_columns] = titanic_df[non_numeric_columns].apply(pd.to_numeric, errors='coerce')"
   ]
  },
  {
   "cell_type": "code",
   "execution_count": 11,
   "id": "d6795298-3082-4870-a649-b84366cfcd20",
   "metadata": {},
   "outputs": [],
   "source": [
    "# Now, calculate mean values for each column\n",
    "mean_values = titanic_df.mean()"
   ]
  },
  {
   "cell_type": "code",
   "execution_count": 12,
   "id": "94e47767-fc52-4125-8c58-98ed402a022e",
   "metadata": {},
   "outputs": [
    {
     "name": "stdout",
     "output_type": "stream",
     "text": [
      "Mean values for each column:\n",
      "pclass             2.294882\n",
      "survived           0.381971\n",
      "name                    NaN\n",
      "Unnamed: 3              NaN\n",
      "sex                     NaN\n",
      "age               29.881135\n",
      "sibsp              0.498854\n",
      "parch              0.385027\n",
      "ticket        249039.136886\n",
      "fare              33.295479\n",
      "embarked                NaN\n",
      "dtype: float64\n"
     ]
    }
   ],
   "source": [
    "# Display mean values\n",
    "print(\"Mean values for each column:\")\n",
    "print(mean_values)"
   ]
  },
  {
   "cell_type": "code",
   "execution_count": 13,
   "id": "430e14eb-b083-42d6-8b1f-b291cc9039db",
   "metadata": {},
   "outputs": [],
   "source": [
    "# Identify columns with mixed data types or non-numeric values\n",
    "non_numeric_columns = titanic_df.select_dtypes(exclude=[float, int]).columns\n",
    "\n",
    "# Convert non-numeric columns to numeric, replacing non-numeric values with NaN\n",
    "titanic_df[non_numeric_columns] = titanic_df[non_numeric_columns].apply(pd.to_numeric, errors='coerce')\n",
    "\n",
    "# Calculate median values for each column\n",
    "median_values = titanic_df.median()"
   ]
  },
  {
   "cell_type": "code",
   "execution_count": 14,
   "id": "c3852a32-fb14-4e8b-81d4-11c2dd96c5a7",
   "metadata": {},
   "outputs": [
    {
     "name": "stdout",
     "output_type": "stream",
     "text": [
      "Median values for each column:\n",
      "pclass             3.0000\n",
      "survived           0.0000\n",
      "name                  NaN\n",
      "Unnamed: 3            NaN\n",
      "sex                   NaN\n",
      "age               28.0000\n",
      "sibsp              0.0000\n",
      "parch              0.0000\n",
      "ticket        234604.0000\n",
      "fare              14.4542\n",
      "embarked              NaN\n",
      "dtype: float64\n"
     ]
    }
   ],
   "source": [
    "# Display median values\n",
    "print(\"Median values for each column:\")\n",
    "print(median_values)"
   ]
  },
  {
   "cell_type": "code",
   "execution_count": 15,
   "id": "9dfbc890-6506-4efe-b277-fa7acbc85334",
   "metadata": {},
   "outputs": [],
   "source": [
    "# Identify columns with mixed data types or non-numeric values\n",
    "non_numeric_columns = titanic_df.select_dtypes(exclude=[float, int]).columns\n",
    "\n",
    "# Convert non-numeric columns to numeric, replacing non-numeric values with NaN\n",
    "titanic_df[non_numeric_columns] = titanic_df[non_numeric_columns].apply(pd.to_numeric, errors='coerce')\n",
    "\n",
    "# Calculate mode values for each column\n",
    "mode_values = titanic_df.mode().iloc[0]  # Mode may have multiple values, so we take the first one"
   ]
  },
  {
   "cell_type": "code",
   "execution_count": 16,
   "id": "a01d7eab-0b81-4c90-b8d8-45d600175776",
   "metadata": {},
   "outputs": [
    {
     "name": "stdout",
     "output_type": "stream",
     "text": [
      "Mode values for each column:\n",
      "pclass           3.00\n",
      "survived         0.00\n",
      "name              NaN\n",
      "Unnamed: 3        NaN\n",
      "sex               NaN\n",
      "age             24.00\n",
      "sibsp            0.00\n",
      "parch            0.00\n",
      "ticket        1601.00\n",
      "fare             8.05\n",
      "embarked          NaN\n",
      "Name: 0, dtype: float64\n"
     ]
    }
   ],
   "source": [
    "# Display mode values\n",
    "print(\"Mode values for each column:\")\n",
    "print(mode_values)"
   ]
  },
  {
   "cell_type": "code",
   "execution_count": 17,
   "id": "54de3dcf-accf-4606-b694-9163a9c1a69c",
   "metadata": {},
   "outputs": [],
   "source": [
    "# Identify columns with mixed data types or non-numeric values\n",
    "non_numeric_columns = titanic_df.select_dtypes(exclude=[float, int]).columns\n",
    "\n",
    "# Convert non-numeric columns to numeric, replacing non-numeric values with NaN\n",
    "titanic_df[non_numeric_columns] = titanic_df[non_numeric_columns].apply(pd.to_numeric, errors='coerce')\n",
    "\n",
    "# Calculate standard deviation values for each column\n",
    "std_dev_values = titanic_df.std()"
   ]
  },
  {
   "cell_type": "code",
   "execution_count": 18,
   "id": "2125f569-7771-43fe-aeb6-66ca80e5e4ba",
   "metadata": {},
   "outputs": [
    {
     "name": "stdout",
     "output_type": "stream",
     "text": [
      "Standard deviation values for each column:\n",
      "pclass             0.837836\n",
      "survived           0.486055\n",
      "name                    NaN\n",
      "Unnamed: 3              NaN\n",
      "sex                     NaN\n",
      "age               14.413500\n",
      "sibsp              1.041658\n",
      "parch              0.865560\n",
      "ticket        442685.317677\n",
      "fare              51.758668\n",
      "embarked                NaN\n",
      "dtype: float64\n"
     ]
    }
   ],
   "source": [
    "# Display standard deviation values\n",
    "print(\"Standard deviation values for each column:\")\n",
    "print(std_dev_values)"
   ]
  },
  {
   "cell_type": "code",
   "execution_count": 19,
   "id": "37a84f5a-29bc-4a09-a582-6ce2e47cd499",
   "metadata": {},
   "outputs": [],
   "source": [
    "# Display the calculated summary statistics\n",
    "summary_stats.loc['mean'] = mean_values\n",
    "summary_stats.loc['50%'] = median_values\n",
    "summary_stats.loc['mode'] = mode_values\n",
    "summary_stats.loc['std'] = std_dev_values"
   ]
  },
  {
   "cell_type": "code",
   "execution_count": 20,
   "id": "32fa98cc-3ac2-4cd9-8c96-3542e7d0c892",
   "metadata": {},
   "outputs": [
    {
     "name": "stdout",
     "output_type": "stream",
     "text": [
      "Summary Statistics:\n",
      "            pclass     survived  Unnamed: 3          age        sibsp  \\\n",
      "count  1309.000000  1309.000000         0.0  1046.000000  1309.000000   \n",
      "mean      2.294882     0.381971         NaN    29.881135     0.498854   \n",
      "std       0.837836     0.486055         NaN    14.413500     1.041658   \n",
      "min       1.000000     0.000000         NaN     0.166700     0.000000   \n",
      "25%       2.000000     0.000000         NaN    21.000000     0.000000   \n",
      "50%       3.000000     0.000000         NaN    28.000000     0.000000   \n",
      "75%       3.000000     1.000000         NaN    39.000000     1.000000   \n",
      "max       3.000000     1.000000         NaN    80.000000     8.000000   \n",
      "mode      3.000000     0.000000         NaN    24.000000     0.000000   \n",
      "\n",
      "             parch         fare  \n",
      "count  1309.000000  1308.000000  \n",
      "mean      0.385027    33.295479  \n",
      "std       0.865560    51.758668  \n",
      "min       0.000000     0.000000  \n",
      "25%       0.000000     7.895800  \n",
      "50%       0.000000    14.454200  \n",
      "75%       0.000000    31.275000  \n",
      "max       9.000000   512.329200  \n",
      "mode      0.000000     8.050000  \n"
     ]
    }
   ],
   "source": [
    "print(\"Summary Statistics:\")\n",
    "print(summary_stats)"
   ]
  },
  {
   "cell_type": "code",
   "execution_count": null,
   "id": "433b603d-4aca-4b5a-b10a-cf6aabb2b6fa",
   "metadata": {},
   "outputs": [],
   "source": []
  }
 ],
 "metadata": {
  "kernelspec": {
   "display_name": "Python 3 (ipykernel)",
   "language": "python",
   "name": "python3"
  },
  "language_info": {
   "codemirror_mode": {
    "name": "ipython",
    "version": 3
   },
   "file_extension": ".py",
   "mimetype": "text/x-python",
   "name": "python",
   "nbconvert_exporter": "python",
   "pygments_lexer": "ipython3",
   "version": "3.11.4"
  }
 },
 "nbformat": 4,
 "nbformat_minor": 5
}
