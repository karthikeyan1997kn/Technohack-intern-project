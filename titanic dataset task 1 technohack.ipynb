{
 "cells": [
  {
   "cell_type": "code",
   "execution_count": 2,
   "id": "3782b2bb-856a-4fea-b570-9c5ff7712996",
   "metadata": {},
   "outputs": [],
   "source": [
    "import pandas as pd\n",
    "import numpy as np"
   ]
  },
  {
   "cell_type": "code",
   "execution_count": 25,
   "id": "b007430e-5363-4558-8cb5-4def1ec04888",
   "metadata": {},
   "outputs": [
    {
     "name": "stdout",
     "output_type": "stream",
     "text": [
      "   pclass  survived                                             name  \\\n",
      "0       1         1                    Allen, Miss. Elisabeth Walton   \n",
      "1       1         1                   Allison, Master. Hudson Trevor   \n",
      "2       1         0                     Allison, Miss. Helen Loraine   \n",
      "3       1         0             Allison, Mr. Hudson Joshua Creighton   \n",
      "4       1         0  Allison, Mrs. Hudson J C (Bessie Waldo Daniels)   \n",
      "\n",
      "   Unnamed: 3     sex      age  sibsp  parch  ticket      fare embarked  \n",
      "0         NaN  female  29.0000      0      0   24160  211.3375        S  \n",
      "1         NaN    male   0.9167      1      2  113781  151.5500        S  \n",
      "2         NaN  female   2.0000      1      2  113781  151.5500        S  \n",
      "3         NaN    male  30.0000      1      2  113781  151.5500        S  \n",
      "4         NaN  female  25.0000      1      2  113781  151.5500        S  \n"
     ]
    }
   ],
   "source": [
    "# Assuming 'Titanic DS.xlsx' is the Excel file\n",
    "file_path = r\"C:\\Users\\KARTHIK\\Downloads\\Titanic DS.xlsx\"\n",
    "titanic_df = pd.read_excel(file_path)\n",
    "\n",
    "# Display the first few rows of the DataFrame\n",
    "print(titanic_df.head())\n"
   ]
  },
  {
   "cell_type": "code",
   "execution_count": 39,
   "id": "eb1698ec-ffb8-4f95-ae07-27c7cde34ad8",
   "metadata": {},
   "outputs": [
    {
     "name": "stdout",
     "output_type": "stream",
     "text": [
      "Column names: Index(['pclass', 'survived', 'name', 'Unnamed: 3', 'sex', 'age', 'sibsp',\n",
      "       'parch', 'ticket', 'fare', 'embarked'],\n",
      "      dtype='object')\n"
     ]
    }
   ],
   "source": [
    "# Display the column names\n",
    "print(\"Column names:\", titanic_df.columns)"
   ]
  },
  {
   "cell_type": "code",
   "execution_count": 40,
   "id": "4c095b55-9940-48c3-8822-609c6c5effb8",
   "metadata": {},
   "outputs": [
    {
     "name": "stdout",
     "output_type": "stream",
     "text": [
      "Missing values before cleaning:\n",
      "pclass           0\n",
      "survived         0\n",
      "name             0\n",
      "Unnamed: 3    1309\n",
      "sex              0\n",
      "age            263\n",
      "sibsp            0\n",
      "parch            0\n",
      "ticket           0\n",
      "fare             1\n",
      "embarked         2\n",
      "dtype: int64\n"
     ]
    }
   ],
   "source": [
    "# Display the number of missing values in each column\n",
    "print(\"Missing values before cleaning:\")\n",
    "print(titanic_df.isnull().sum())\n"
   ]
  },
  {
   "cell_type": "code",
   "execution_count": 41,
   "id": "6254254e-cbbe-4ea0-9ba5-30dd2fd4412b",
   "metadata": {},
   "outputs": [],
   "source": [
    "# Remove missing values\n",
    "titanic_df_cleaned = titanic_df.dropna()"
   ]
  },
  {
   "cell_type": "code",
   "execution_count": 42,
   "id": "82da83b2-a2e3-4802-acfa-b5f178244804",
   "metadata": {},
   "outputs": [],
   "source": [
    "# Handling outliers (Example: Identifying outliers in the 'Fare' column)\n",
    "if 'Fare' in titanic_df_cleaned.columns:\n",
    "    Q1 = titanic_df_cleaned['Fare'].quantile(0.25)\n",
    "    Q3 = titanic_df_cleaned['Fare'].quantile(0.75)\n",
    "    IQR = Q3 - Q1"
   ]
  },
  {
   "cell_type": "code",
   "execution_count": 43,
   "id": "4e8426d5-bb2e-4d8c-9e1c-0c783b6b7781",
   "metadata": {},
   "outputs": [
    {
     "ename": "IndentationError",
     "evalue": "unexpected indent (3988816890.py, line 2)",
     "output_type": "error",
     "traceback": [
      "\u001b[1;36m  Cell \u001b[1;32mIn[43], line 2\u001b[1;36m\u001b[0m\n\u001b[1;33m    outliers = titanic_df_cleaned[((titanic_df_cleaned['Fare'] < (Q1 - 1.5 * IQR)) | (titanic_df_cleaned['Fare'] > (Q3 + 1.5 * IQR)))]\u001b[0m\n\u001b[1;37m    ^\u001b[0m\n\u001b[1;31mIndentationError\u001b[0m\u001b[1;31m:\u001b[0m unexpected indent\n"
     ]
    }
   ],
   "source": [
    " # Find outliers using the IQR method\n",
    "    outliers = titanic_df_cleaned[((titanic_df_cleaned['Fare'] < (Q1 - 1.5 * IQR)) | (titanic_df_cleaned['Fare'] > (Q3 + 1.5 * IQR)))]\n"
   ]
  },
  {
   "cell_type": "code",
   "execution_count": 44,
   "id": "981c5f56-e8ab-42d6-adbf-94e869959988",
   "metadata": {},
   "outputs": [
    {
     "ename": "IndentationError",
     "evalue": "unexpected indent (1848964990.py, line 2)",
     "output_type": "error",
     "traceback": [
      "\u001b[1;36m  Cell \u001b[1;32mIn[44], line 2\u001b[1;36m\u001b[0m\n\u001b[1;33m    print(\"\\nOutliers in the 'Fare' column:\")\u001b[0m\n\u001b[1;37m    ^\u001b[0m\n\u001b[1;31mIndentationError\u001b[0m\u001b[1;31m:\u001b[0m unexpected indent\n"
     ]
    }
   ],
   "source": [
    "# Display the outliers\n",
    "    print(\"\\nOutliers in the 'Fare' column:\")\n",
    "    print(outliers)\n",
    "else:\n",
    "    print(\"Column 'Fare' not found in the DataFrame.\")"
   ]
  },
  {
   "cell_type": "code",
   "execution_count": 45,
   "id": "c213e3d2-bebf-4102-8e4f-da420bdd4f8f",
   "metadata": {},
   "outputs": [],
   "source": [
    "# Save the cleaned dataset to a new CSV file\n",
    "titanic_df_cleaned.to_csv('cleaned_titanic.csv', index=False)"
   ]
  },
  {
   "cell_type": "code",
   "execution_count": null,
   "id": "010508b1-65a4-49bf-ba3f-a1265ff47fa4",
   "metadata": {},
   "outputs": [],
   "source": []
  },
  {
   "cell_type": "code",
   "execution_count": null,
   "id": "a08ef43f-f831-42eb-bd5e-110195f756f0",
   "metadata": {},
   "outputs": [],
   "source": []
  }
 ],
 "metadata": {
  "kernelspec": {
   "display_name": "Python 3 (ipykernel)",
   "language": "python",
   "name": "python3"
  },
  "language_info": {
   "codemirror_mode": {
    "name": "ipython",
    "version": 3
   },
   "file_extension": ".py",
   "mimetype": "text/x-python",
   "name": "python",
   "nbconvert_exporter": "python",
   "pygments_lexer": "ipython3",
   "version": "3.11.4"
  }
 },
 "nbformat": 4,
 "nbformat_minor": 5
}
